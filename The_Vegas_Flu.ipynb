{
  "nbformat": 4,
  "nbformat_minor": 0,
  "metadata": {
    "colab": {
      "provenance": [],
      "include_colab_link": true
    },
    "kernelspec": {
      "name": "python3",
      "display_name": "Python 3"
    },
    "language_info": {
      "name": "python"
    }
  },
  "cells": [
    {
      "cell_type": "markdown",
      "metadata": {
        "id": "view-in-github",
        "colab_type": "text"
      },
      "source": [
        "<a href=\"https://colab.research.google.com/github/twointum/TheVegasFlu/blob/main/The_Vegas_Flu.ipynb\" target=\"_parent\"><img src=\"https://colab.research.google.com/assets/colab-badge.svg\" alt=\"Open In Colab\"/></a>"
      ]
    },
    {
      "cell_type": "code",
      "execution_count": null,
      "metadata": {
        "colab": {
          "base_uri": "https://localhost:8080/"
        },
        "id": "g0sy10W83twl",
        "outputId": "6fa85645-44bd-4927-feb9-132cda6d9c6c"
      },
      "outputs": [
        {
          "output_type": "stream",
          "name": "stdout",
          "text": [
            "         date  totalItems  totalEvents  totalGames  totalMatches  \\\n",
            "0  2023-04-27           3            0           3             0   \n",
            "\n",
            "                                               games events matches  \n",
            "0  [{'gamePk': 2022030125, 'link': '/api/v1/game/...     []      []  \n"
          ]
        }
      ],
      "source": [
        "import requests\n",
        "import pandas as pd\n",
        "import json\n",
        "\n",
        "# Make a GET request to the NHL daily schedule endpoint. Details here: https://github.com/dword4/nhlapi\n",
        "response = requests.get('https://statsapi.web.nhl.com/api/v1/schedule?startDate=2023-04-27&endDate=2023-04-27')\n",
        "\n",
        "# Convert the JSON response into a pandas DataFrame. Each date will be in a row.\n",
        "df = pd.DataFrame(response.json()['dates'])\n",
        "\n",
        "# Print the first 5 rows of the DataFrame, just to check it works.\n",
        "print(df.head())"
      ]
    },
    {
      "cell_type": "code",
      "source": [
        "# Initialize a variable to hold all the game ids\n",
        "game_ids = []\n",
        "\n",
        "# Since all we need from here is the gamePk (the game ID to use in the box score link), make a little function to parse each date row.\n",
        "def extract_gamePk(row):\n",
        "    # The value in the column is a list []. There are multiple games per day (possibly). \n",
        "    for game in row['games']:\n",
        "      game_ids.append(game['gamePk'])\n",
        "\n",
        "# use that function for every row aka every date.\n",
        "df.apply(extract_gamePk, axis=1)\n",
        "\n",
        "# There should be 1358 games in the list.\n",
        "print(len(game_ids))"
      ],
      "metadata": {
        "colab": {
          "base_uri": "https://localhost:8080/"
        },
        "id": "w9-uKgVL5Dvk",
        "outputId": "d94c5908-9d2c-4f0a-f00a-b98026ad6b47"
      },
      "execution_count": null,
      "outputs": [
        {
          "output_type": "stream",
          "name": "stdout",
          "text": [
            "3\n"
          ]
        }
      ]
    },
    {
      "cell_type": "code",
      "source": [
        "# For testing, limit the number of games to loop. Comment this out when you're ready to roll!\n",
        "#game_ids = [2017020013, 2017020019, 2017020031, 2017020032, 2017020039, 2017020046, 2017020051,]"
      ],
      "metadata": {
        "id": "rEgu4uYJ7RFV"
      },
      "execution_count": null,
      "outputs": []
    },
    {
      "cell_type": "code",
      "source": [
        "# Each game will get its own dataframe. We must comebine them all into a big dataframe. Initialize it here.\n",
        "big_df = pd.DataFrame()\n",
        "game_counter = 1\n",
        "\n",
        "# Now we have to loop through each game, make an API call and store that data in a dataframe.\n",
        "for game_id in game_ids:\n",
        "  # Do the response thing again, same source as above, different endpoint. This is the box score endpoint.\n",
        "  api_url = f\"https://statsapi.web.nhl.com/api/v1/game/{game_id}/boxscore\"\n",
        "  response = requests.get(api_url)\n",
        "  print(game_counter, ': ', response, api_url)\n",
        "  game_counter += 1\n",
        "\n",
        "\n",
        "  # Get some team level info from the JSON payload\n",
        "  away_id    = response.json()['teams']['away']['team']['id'];\n",
        "  away_name  = response.json()['teams']['away']['team']['name'];\n",
        "  away_goals = response.json()['teams']['away']['teamStats']['teamSkaterStats']['goals'];\n",
        "  home_id    = response.json()['teams']['home']['team']['id'];\n",
        "  home_name  = response.json()['teams']['home']['team']['name'];\n",
        "  home_goals = response.json()['teams']['home']['teamStats']['teamSkaterStats']['goals'];\n",
        "  away_win   = 1 if away_goals > home_goals else 0\n",
        "  home_win   = 1 if home_goals > away_goals else 0\n",
        "\n",
        "  # Convert the JSON response into a pandas DataFrame and add those team level variables.\n",
        "  away_df = pd.DataFrame(response.json()['teams']['away']['players'])\n",
        "  away_df = away_df.T # The data is shaped weird, transpose it.\n",
        "  away_df['team_id']    = away_id;\n",
        "  away_df['team_name']  = away_name;\n",
        "  away_df['team_goals'] = away_goals;\n",
        "  away_df['team_win']   = away_win;\n",
        "  away_df['is_home_team'] = 0;\n",
        "\n",
        "  home_df = pd.DataFrame(response.json()['teams']['home']['players'])\n",
        "  home_df = home_df.T # The data is shaped weird, transpose it.\n",
        "  home_df['team_id']    = home_id;\n",
        "  home_df['team_name']  = home_name;\n",
        "  home_df['team_goals'] = home_goals;\n",
        "  home_df['team_win']   = home_win;\n",
        "  home_df['is_home_team'] = 1;\n",
        "  \n",
        "  # combine both data frames\n",
        "  df = pd.concat([away_df, home_df], axis=0)\n",
        "  df['game_id'] = game_id\n",
        "  #print(df.head())\n",
        "\n",
        "  # Wonky ETL because the API is extra.\n",
        "  df['id']              = df['person'].apply(lambda x: dict(x)['id'])\n",
        "  df['fullName']        = df['person'].apply(lambda x: dict(x)['fullName'])\n",
        "  df['position']        = df['person'].apply(lambda x: dict(x)['primaryPosition']['type'])\n",
        "\n",
        "  # Switched gears here inside the lambda function because the data doesn't exist for goalies!\n",
        "  df['timeOnIce']            =  df['stats'].apply(lambda x: dict(x)['skaterStats']['timeOnIce']            if x.get('skaterStats') is not None else 0  )\n",
        "  df['assists']              =  df['stats'].apply(lambda x: dict(x)['skaterStats']['assists']              if x.get('skaterStats') is not None else 0  )\n",
        "  df['goals']                =  df['stats'].apply(lambda x: dict(x)['skaterStats']['goals']                if x.get('skaterStats') is not None else 0  )\n",
        "  df['shots']                =  df['stats'].apply(lambda x: dict(x)['skaterStats']['shots']                if x.get('skaterStats') is not None else 0  )\n",
        "  df['hits']                 =  df['stats'].apply(lambda x: dict(x)['skaterStats']['hits']                 if x.get('skaterStats') is not None else 0  )\n",
        "  df['penaltyMinutes']       =  df['stats'].apply(lambda x: dict(x)['skaterStats']['penaltyMinutes']       if x.get('skaterStats') is not None else 0  )\n",
        "  df['powerPlayGoals']       =  df['stats'].apply(lambda x: dict(x)['skaterStats']['powerPlayGoals']       if x.get('skaterStats') is not None else 0  )\n",
        "  df['powerPlayAssists']     =  df['stats'].apply(lambda x: dict(x)['skaterStats']['powerPlayAssists']     if x.get('skaterStats') is not None else 0  )\n",
        "  df['penaltyMinutes']       =  df['stats'].apply(lambda x: dict(x)['skaterStats']['penaltyMinutes']       if x.get('skaterStats') is not None else 0  )\n",
        "  #df['faceOffPct']           =  df['stats'].apply(lambda x: dict(x)['skaterStats']['faceOffPct']           if x.get('skaterStats') is not None else 0  ) # I don't know why this one doesn't work.\n",
        "  df['faceOffWins']          =  df['stats'].apply(lambda x: dict(x)['skaterStats']['faceOffWins']          if x.get('skaterStats') is not None else 0  )\n",
        "  df['faceOffTaken']         =  df['stats'].apply(lambda x: dict(x)['skaterStats']['faceoffTaken']         if x.get('skaterStats') is not None else 0  )\n",
        "  df['takeaways']            =  df['stats'].apply(lambda x: dict(x)['skaterStats']['takeaways']            if x.get('skaterStats') is not None else 0  )\n",
        "  df['giveaways']            =  df['stats'].apply(lambda x: dict(x)['skaterStats']['giveaways']            if x.get('skaterStats') is not None else 0  )\n",
        "  df['shortHandedGoals']     =  df['stats'].apply(lambda x: dict(x)['skaterStats']['shortHandedGoals']     if x.get('skaterStats') is not None else 0  )\n",
        "  df['shortHandedAssists']   =  df['stats'].apply(lambda x: dict(x)['skaterStats']['shortHandedAssists']   if x.get('skaterStats') is not None else 0  )\n",
        "  df['blocked']              =  df['stats'].apply(lambda x: dict(x)['skaterStats']['blocked']              if x.get('skaterStats') is not None else 0  )\n",
        "  df['plusMinus']            =  df['stats'].apply(lambda x: dict(x)['skaterStats']['plusMinus']            if x.get('skaterStats') is not None else 0  )\n",
        "  df['evenTimeOnIce']        =  df['stats'].apply(lambda x: dict(x)['skaterStats']['evenTimeOnIce']        if x.get('skaterStats') is not None else 0  )\n",
        "  df['powerPlayTimeOnIce']   =  df['stats'].apply(lambda x: dict(x)['skaterStats']['powerPlayTimeOnIce']   if x.get('skaterStats') is not None else 0  )\n",
        "  df['shortHandedTimeOnIce'] =  df['stats'].apply(lambda x: dict(x)['skaterStats']['shortHandedTimeOnIce'] if x.get('skaterStats') is not None else 0  )\n",
        "  #Goalie Stats\n",
        "  df['goalieTimeOnIce']         =  df['stats'].apply(lambda x: dict(x)['goalieStats']['timeOnIce']               if x.get('goalieStats') is not None else 0  )\n",
        "  df['goaliePenaltyMinutes']    =  df['stats'].apply(lambda x: dict(x)['goalieStats']['pim']                     if x.get('goalieStats') is not None else 0  )\n",
        "  df['shotsAgainst']            =  df['stats'].apply(lambda x: dict(x)['goalieStats']['shots']                   if x.get('goalieStats') is not None else 0  )\n",
        "  df['saves']                   =  df['stats'].apply(lambda x: dict(x)['goalieStats']['saves']                   if x.get('goalieStats') is not None else 0  )\n",
        "  df['powerPlaySaves']          =  df['stats'].apply(lambda x: dict(x)['goalieStats']['powerPlaySaves']          if x.get('goalieStats') is not None else 0  )\n",
        "  df['shortHandedSaves']        =  df['stats'].apply(lambda x: dict(x)['goalieStats']['shortHandedSaves']        if x.get('goalieStats') is not None else 0  )\n",
        "  df['evenSaves']               =  df['stats'].apply(lambda x: dict(x)['goalieStats']['evenSaves']               if x.get('goalieStats') is not None else 0  )\n",
        "  df['shortHandedShotsAgainst'] =  df['stats'].apply(lambda x: dict(x)['goalieStats']['shortHandedShotsAgainst'] if x.get('goalieStats') is not None else 0  )\n",
        "  df['evenShotsAgainst']        =  df['stats'].apply(lambda x: dict(x)['goalieStats']['evenShotsAgainst']        if x.get('goalieStats') is not None else 0  )\n",
        "  df['powerPlayShotsAgainst']   =  df['stats'].apply(lambda x: dict(x)['goalieStats']['powerPlayShotsAgainst']   if x.get('goalieStats') is not None else 0  )\n",
        "  #df['decision']                =  df['stats'].apply(lambda x: dict(x)['goalieStats']['decision']                if x.get('goalieStats') is not None else 0  ) # For some reason, decision isn't entered for each game!\n",
        "  #df['goalieWin']               =  df['decision'].apply(lambda x: 1 if x == 'W' else 0 ) \n",
        "  df['goalsAllowed']            =  df['shotsAgainst'] - df['saves']\n",
        "  #df['shutouts']                =  df.apply(lambda x: 1 if x['decision'] == 'W' else 0 , axis = 1)\n",
        "\n",
        "  # Possible Y's\n",
        "  df['points'] = df['goals'] + df['assists']\n",
        "  df['fantasyPoints'] = df['goals'] * 3 + df['assists'] * 2 + df['plusMinus'] + df['penaltyMinutes'] * .5 + df['powerPlayGoals'] + df['powerPlayAssists'] + df['shotsAgainst'] * .4  + df['goalsAllowed'] * -1 + df['saves'] * .2 # + df['goalieWin'] * 4 + df['shutouts'] * 2\n",
        "\n",
        "\n",
        "  #Remove the unformatted columns.\n",
        "  df.drop(['person', 'jerseyNumber', 'stats' ], axis=1, inplace=True)\n",
        "\n",
        "  # check if the big_df is empty. Should only be the case on the first game.\n",
        "  if big_df.empty:\n",
        "      big_df = df\n",
        "  else:\n",
        "      big_df = pd.concat([big_df, df], axis=0)\n",
        "\n",
        "#finally, add a row number for panel data t's\n",
        "big_df['t'] = big_df.groupby('id')['game_id'].cumcount() + 1\n",
        "\n",
        "# Saved to this ethereal session. Download it or you have to run this again!\n",
        "big_df.to_csv('TheVegasFlu.csv', index=False)\n",
        "\n"
      ],
      "metadata": {
        "colab": {
          "base_uri": "https://localhost:8080/"
        },
        "id": "zCCpKXWs7ilp",
        "outputId": "80941761-908f-4daa-c1aa-807b5bf26b97"
      },
      "execution_count": null,
      "outputs": [
        {
          "output_type": "stream",
          "name": "stdout",
          "text": [
            "1 :  <Response [200]> https://statsapi.web.nhl.com/api/v1/game/2022030125/boxscore\n",
            "2 :  <Response [200]> https://statsapi.web.nhl.com/api/v1/game/2022030145/boxscore\n",
            "3 :  <Response [200]> https://statsapi.web.nhl.com/api/v1/game/2022030175/boxscore\n"
          ]
        }
      ]
    }
  ]
}